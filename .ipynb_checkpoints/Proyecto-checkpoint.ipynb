{
 "cells": [
  {
   "cell_type": "code",
   "execution_count": 1,
   "metadata": {},
   "outputs": [],
   "source": [
    "import numpy as np\n",
    "import matplotlib.pyplot as plt"
   ]
  },
  {
   "cell_type": "code",
   "execution_count": 2,
   "metadata": {},
   "outputs": [],
   "source": [
    "AA3to1 = {'CYS': 'C', 'ASP': 'D', 'SER': 'S', 'GLN': 'Q', 'LYS': 'K','ILE': 'I', 'PRO': 'P', 'THR': 'T', 'PHE': 'F', 'ASN': 'N', \n",
    "     'GLY': 'G', 'HIS': 'H', 'LEU': 'L', 'ARG': 'R', 'TRP': 'W','ALA': 'A', 'VAL':'V', 'GLU': 'E', 'TYR': 'Y', 'MET': 'M'}\n",
    "AA1to3 = {}\n",
    "for i in range(len(list(AA3to1.keys()))):\n",
    "    AA1to3[list(AA3to1.values())[i]] = list(AA3to1.keys())[i]"
   ]
  },
  {
   "cell_type": "code",
   "execution_count": 3,
   "metadata": {},
   "outputs": [],
   "source": [
    "AA = 'SSGLVPRGSHMRGPNPTAASLEASAGPFTVRSFTVSRPSGYGAGTVYYPTNAGGTVGAIAIVPGYTARQSSIKWWGPRLASHGFVVITIDTNSTLDQPSSRSSQQMAALRQVASLNGTSSSPIYGKVDTARMGVMGWSMGGGGSLISAANNPSLKAAAPQAPWDSSTNFSSVTVPTLIFACENDSIAPVNSSALPIYDSMSRNAKQFLEINGGSHSCANSGNSNQALIGKKGVAWMKRFMDNDTRYSTFACENPNSTRVSDFRTANCSLEDPAANKARKEAELAAATAEQ'\n",
    "Am = list(AA)\n",
    "Am3 = []\n",
    "for i in range(len(Am)):\n",
    "    Am3.append(AA1to3[Am[i]])"
   ]
  },
  {
   "cell_type": "code",
   "execution_count": 4,
   "metadata": {},
   "outputs": [],
   "source": [
    "CodonDict={'ATT':'I',   'ATC':'I',  'ATA':'I',  'CTT':'L',  'CTC':'L',  \n",
    "'CTA':'L',  'CTG':'L',  'TTA':'L',  'TTG':'L',  'GTT':'V',  'GTC':'V',  \n",
    "'GTA':'V',  'GTG':'V',  'TTT':'F',  'TTC':'F',  'ATG':'M',  'TGT':'C',  \n",
    "'TGC':'C',  'GCT':'A',  'GCC':'A',  'GCA':'A',  'GCG':'A',  'GGT':'G',  \n",
    "'GGC':'G',  'GGA':'G',  'GGG':'G',  'CCT':'P',  'CCC':'P',  'CCA':'P',  \n",
    "'CCG':'P',  'ACT':'T',  'ACC':'T',  'ACA':'T',  'ACG':'T',  'TCT':'S',  \n",
    "'TCC':'S',  'TCA':'S',  'TCG':'S',  'AGT':'S',  'AGC':'S',  'TAT':'Y',  \n",
    "'TAC':'Y',  'TGG':'W',  'CAA':'Q',  'CAG':'Q',  'AAT':'N',  'AAC':'N',  \n",
    "'CAT':'H',  'CAC':'H',  'GAA':'E',  'GAG':'E',  'GAT':'D',  'GAC':'D',  \n",
    "'AAA':'K',  'AAG':'K',  'CGT':'R',  'CGC':'R',  'CGA':'R',  'CGG':'R',  \n",
    "'AGA':'R',  'AGG':'R',  'TAA':'X',  'TAG':'X',  'TGA':'X'}"
   ]
  },
  {
   "cell_type": "code",
   "execution_count": 5,
   "metadata": {},
   "outputs": [],
   "source": [
    "AAtoGEN = {}\n",
    "for i in range(len(list(CodonDict.keys()))):\n",
    "    AAtoGEN[list(CodonDict.values())[i]] = list(CodonDict.keys())[i]"
   ]
  },
  {
   "cell_type": "code",
   "execution_count": 6,
   "metadata": {},
   "outputs": [],
   "source": [
    "Gen = []\n",
    "for i in range(len(Am)):\n",
    "    Gen.append(AAtoGEN[Am[i]])"
   ]
  },
  {
   "cell_type": "code",
   "execution_count": 7,
   "metadata": {},
   "outputs": [],
   "source": [
    "Gen = np.array(Gen)"
   ]
  },
  {
   "cell_type": "code",
   "execution_count": 8,
   "metadata": {},
   "outputs": [
    {
     "data": {
      "text/plain": [
       "array(['AGC', 'AGC', 'GGG', 'TTG', 'GTG', 'CCG', 'AGG', 'GGG', 'AGC',\n",
       "       'CAC', 'ATG', 'AGG', 'GGG', 'CCG', 'AAC', 'CCG', 'ACG', 'GCG',\n",
       "       'GCG', 'AGC', 'TTG', 'GAG', 'GCG', 'AGC', 'GCG', 'GGG', 'CCG',\n",
       "       'TTC', 'ACG', 'GTG', 'AGG', 'AGC', 'TTC', 'ACG', 'GTG', 'AGC',\n",
       "       'AGG', 'CCG', 'AGC', 'GGG', 'TAC', 'GGG', 'GCG', 'GGG', 'ACG',\n",
       "       'GTG', 'TAC', 'TAC', 'CCG', 'ACG', 'AAC', 'GCG', 'GGG', 'GGG',\n",
       "       'ACG', 'GTG', 'GGG', 'GCG', 'ATA', 'GCG', 'ATA', 'GTG', 'CCG',\n",
       "       'GGG', 'TAC', 'ACG', 'GCG', 'AGG', 'CAG', 'AGC', 'AGC', 'ATA',\n",
       "       'AAG', 'TGG', 'TGG', 'GGG', 'CCG', 'AGG', 'TTG', 'GCG', 'AGC',\n",
       "       'CAC', 'GGG', 'TTC', 'GTG', 'GTG', 'ATA', 'ACG', 'ATA', 'GAC',\n",
       "       'ACG', 'AAC', 'AGC', 'ACG', 'TTG', 'GAC', 'CAG', 'CCG', 'AGC',\n",
       "       'AGC', 'AGG', 'AGC', 'AGC', 'CAG', 'CAG', 'ATG', 'GCG', 'GCG',\n",
       "       'TTG', 'AGG', 'CAG', 'GTG', 'GCG', 'AGC', 'TTG', 'AAC', 'GGG',\n",
       "       'ACG', 'AGC', 'AGC', 'AGC', 'CCG', 'ATA', 'TAC', 'GGG', 'AAG',\n",
       "       'GTG', 'GAC', 'ACG', 'GCG', 'AGG', 'ATG', 'GGG', 'GTG', 'ATG',\n",
       "       'GGG', 'TGG', 'AGC', 'ATG', 'GGG', 'GGG', 'GGG', 'GGG', 'AGC',\n",
       "       'TTG', 'ATA', 'AGC', 'GCG', 'GCG', 'AAC', 'AAC', 'CCG', 'AGC',\n",
       "       'TTG', 'AAG', 'GCG', 'GCG', 'GCG', 'CCG', 'CAG', 'GCG', 'CCG',\n",
       "       'TGG', 'GAC', 'AGC', 'AGC', 'ACG', 'AAC', 'TTC', 'AGC', 'AGC',\n",
       "       'GTG', 'ACG', 'GTG', 'CCG', 'ACG', 'TTG', 'ATA', 'TTC', 'GCG',\n",
       "       'TGC', 'GAG', 'AAC', 'GAC', 'AGC', 'ATA', 'GCG', 'CCG', 'GTG',\n",
       "       'AAC', 'AGC', 'AGC', 'GCG', 'TTG', 'CCG', 'ATA', 'TAC', 'GAC',\n",
       "       'AGC', 'ATG', 'AGC', 'AGG', 'AAC', 'GCG', 'AAG', 'CAG', 'TTC',\n",
       "       'TTG', 'GAG', 'ATA', 'AAC', 'GGG', 'GGG', 'AGC', 'CAC', 'AGC',\n",
       "       'TGC', 'GCG', 'AAC', 'AGC', 'GGG', 'AAC', 'AGC', 'AAC', 'CAG',\n",
       "       'GCG', 'TTG', 'ATA', 'GGG', 'AAG', 'AAG', 'GGG', 'GTG', 'GCG',\n",
       "       'TGG', 'ATG', 'AAG', 'AGG', 'TTC', 'ATG', 'GAC', 'AAC', 'GAC',\n",
       "       'ACG', 'AGG', 'TAC', 'AGC', 'ACG', 'TTC', 'GCG', 'TGC', 'GAG',\n",
       "       'AAC', 'CCG', 'AAC', 'AGC', 'ACG', 'AGG', 'GTG', 'AGC', 'GAC',\n",
       "       'TTC', 'AGG', 'ACG', 'GCG', 'AAC', 'TGC', 'AGC', 'TTG', 'GAG',\n",
       "       'GAC', 'CCG', 'GCG', 'GCG', 'AAC', 'AAG', 'GCG', 'AGG', 'AAG',\n",
       "       'GAG', 'GCG', 'GAG', 'TTG', 'GCG', 'GCG', 'GCG', 'ACG', 'GCG',\n",
       "       'GAG', 'CAG'], dtype='<U3')"
      ]
     },
     "execution_count": 8,
     "metadata": {},
     "output_type": "execute_result"
    }
   ],
   "source": [
    "Gen"
   ]
  },
  {
   "cell_type": "markdown",
   "metadata": {},
   "source": [
    "Gillespi"
   ]
  },
  {
   "cell_type": "code",
   "execution_count": 9,
   "metadata": {},
   "outputs": [
    {
     "data": {
      "image/png": "[encoded data removed]",
      "text/plain": [
       "<Figure size 432x288 with 1 Axes>"
      ]
     },
     "metadata": {
      "needs_background": "light"
     },
     "output_type": "display_data"
    }
   ],
   "source": [
    "n_0 = 20\n",
    "n_max = 10000\n",
    "t = [0]\n",
    "pob = [0 for i in range(n_0)]\n",
    "n_mu = [0]\n",
    "t_mu = [0]\n",
    "j=0\n",
    "f=0\n",
    "i=1\n",
    "while(True):\n",
    "    g = 2.0*len(pob)\n",
    "    ga = len(pob)\n",
    "    mu = g * 0.001 + pob.count(1) * f\n",
    "    s = g + ga + mu\n",
    "    t_new = -1/s * np.log(np.random.random())\n",
    "    t.append(t[i-1]+t_new)\n",
    "    \n",
    "    alpha = np.random.random()\n",
    "    if(g > alpha * s and len(pob)<=n_max):\n",
    "        pob.append(0)\n",
    "    if(ga > alpha * s):\n",
    "        idx = np.random.randint(len(pob))\n",
    "        pob.pop(idx)\n",
    "    if(mu > alpha * s):\n",
    "        pob.append(1)\n",
    "    n_mu.append(pob.count(1)) \n",
    "    if(pob.count(1)>100 or t[i]>10):\n",
    "        break\n",
    "    i+=1\n",
    "     \n",
    "plt.plot(t,n_mu) \n",
    "plt.xlabel('time')\n",
    "plt.ylabel('number of mutants')\n",
    "plt.show()   "
   ]
  },
  {
   "cell_type": "code",
   "execution_count": 16,
   "metadata": {},
   "outputs": [],
   "source": [
    "def mutation(gen):\n",
    "    g = ''.join(gen)\n",
    "    idx = np.random.randint(len(g))\n",
    "    a = ['A','T','G','C']\n",
    "    i = np.random.randint(4)\n",
    "    d = list(g)\n",
    "    d[idx] = a[i]\n",
    "    return ''.join(d)"
   ]
  },
  {
   "cell_type": "code",
   "execution_count": 24,
   "metadata": {},
   "outputs": [
    {
     "data": {
      "text/plain": [
       "'AGCAGCGGGTTGGTGCCGAGGGGGAGCCACATGAGGGGGCCGAACCCGACGGCGGCGAGCTTGGAGGCGAGCGCGGGGCCGTTCACGGTGAGGAGCTTCACGGTGAGCAGGCCGAGCGGGTACGGGGCGGGGACGGTGTACTACCCGACGAACGCGGGGGGGACGGTGGGGGCGATAGCGATAGTGCCGGGGTACACGGCGAGGCAGAGCAGCATAAAGTGGTGGGGGCCGAGGTTGGCGAGCCACGGGTTCGTGGTGATAACGATAGACACGAACAGCGCGTTGGACCAGCCGAGCAGCAGGAGCAGCCAGCAGATGGCGGCGTTGAGGCAGGTGGCGAGCTTGAACGGGACGAGCAGCAGCCCGATATACGGGAAGGTGGACACGGCGAGGATGGGGGTGATGGGGTGGAGCATGGGGGGGGGGGGGAGCTTGATAAGCGCGGCGAACAACCCGAGCTTGAAGGCGGCGGCGCCGCAGGCGCCGTGGGACAGCAGCACGAACTTCAGCAGCGTGACGGTGCCGACGTTGATATTCGCGTGCGAGAACGACAGCATAGCGCCGGTGAACAGCAGCGCGTTGCCGATATACGACAGCATGAGCAGGAACGCGAAGCAGTTCTTGGAGATAAACGGGGGGAGCCACAGCTGCGCGAACAGCGGGAACAGCAACCAGGCGTTGATAGGGAAGAAGGGGGTGGCGTGGATGAAGAGGTTCATGGACAACGACACGAGGTACAGCACGTTCGCGTGCGAGAACCCGAACAGCACGAGGGTGAGCGACTTCAGGACGGCGAACTGCAGCTTGGAGGACCCGGCGGCGAACAAGGCGAGGAAGGAGGCGGAGTTGGCGGCGGCGACGGCGGAGCAG'"
      ]
     },
     "execution_count": 24,
     "metadata": {},
     "output_type": "execute_result"
    }
   ],
   "source": [
    "mutation(Gen)"
   ]
  },
  {
   "cell_type": "code",
   "execution_count": null,
   "metadata": {},
   "outputs": [],
   "source": []
  },
  {
   "cell_type": "code",
   "execution_count": null,
   "metadata": {},
   "outputs": [],
   "source": []
  }
 ],
 "metadata": {
  "kernelspec": {
   "display_name": "Python 3",
   "language": "python",
   "name": "python3"
  },
  "language_info": {
   "codemirror_mode": {
    "name": "ipython",
    "version": 3
   },
   "file_extension": ".py",
   "mimetype": "text/x-python",
   "name": "python",
   "nbconvert_exporter": "python",
   "pygments_lexer": "ipython3",
   "version": "3.6.6"
  }
 },
 "nbformat": 4,
 "nbformat_minor": 2
}
