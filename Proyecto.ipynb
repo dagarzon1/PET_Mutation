{
 "cells": [
  {
   "cell_type": "code",
   "execution_count": 1,
   "metadata": {},
   "outputs": [],
   "source": [
    "import numpy as np\n",
    "import matplotlib.pyplot as plt"
   ]
  },
  {
   "cell_type": "code",
   "execution_count": 2,
   "metadata": {},
   "outputs": [],
   "source": [
    "AA3to1 = {'CYS': 'C', 'ASP': 'D', 'SER': 'S', 'GLN': 'Q', 'LYS': 'K','ILE': 'I', 'PRO': 'P', 'THR': 'T', 'PHE': 'F', 'ASN': 'N', \n",
    "     'GLY': 'G', 'HIS': 'H', 'LEU': 'L', 'ARG': 'R', 'TRP': 'W','ALA': 'A', 'VAL':'V', 'GLU': 'E', 'TYR': 'Y', 'MET': 'M'}\n",
    "AA1to3 = {}\n",
    "for i in range(len(list(AA3to1.keys()))):\n",
    "    AA1to3[list(AA3to1.values())[i]] = list(AA3to1.keys())[i]"
   ]
  },
  {
   "cell_type": "code",
   "execution_count": 3,
   "metadata": {},
   "outputs": [],
   "source": [
    "AA = 'SSGLVPRGSHMRGPNPTAASLEASAGPFTVRSFTVSRPSGYGAGTVYYPTNAGGTVGAIAIVPGYTARQSSIKWWGPRLASHGFVVITIDTNSTLDQPSSRSSQQMAALRQVASLNGTSSSPIYGKVDTARMGVMGWSMGGGGSLISAANNPSLKAAAPQAPWDSSTNFSSVTVPTLIFACENDSIAPVNSSALPIYDSMSRNAKQFLEINGGSHSCANSGNSNQALIGKKGVAWMKRFMDNDTRYSTFACENPNSTRVSDFRTANCSLEDPAANKARKEAELAAATAEQ'\n",
    "Am = list(AA)\n",
    "Am3 = []\n",
    "for i in range(len(Am)):\n",
    "    Am3.append(AA1to3[Am[i]])"
   ]
  },
  {
   "cell_type": "code",
   "execution_count": 4,
   "metadata": {},
   "outputs": [],
   "source": [
    "CodonDict={'ATT':'I',   'ATC':'I',  'ATA':'I',  'CTT':'L',  'CTC':'L',  \n",
    "'CTA':'L',  'CTG':'L',  'TTA':'L',  'TTG':'L',  'GTT':'V',  'GTC':'V',  \n",
    "'GTA':'V',  'GTG':'V',  'TTT':'F',  'TTC':'F',  'ATG':'M',  'TGT':'C',  \n",
    "'TGC':'C',  'GCT':'A',  'GCC':'A',  'GCA':'A',  'GCG':'A',  'GGT':'G',  \n",
    "'GGC':'G',  'GGA':'G',  'GGG':'G',  'CCT':'P',  'CCC':'P',  'CCA':'P',  \n",
    "'CCG':'P',  'ACT':'T',  'ACC':'T',  'ACA':'T',  'ACG':'T',  'TCT':'S',  \n",
    "'TCC':'S',  'TCA':'S',  'TCG':'S',  'AGT':'S',  'AGC':'S',  'TAT':'Y',  \n",
    "'TAC':'Y',  'TGG':'W',  'CAA':'Q',  'CAG':'Q',  'AAT':'N',  'AAC':'N',  \n",
    "'CAT':'H',  'CAC':'H',  'GAA':'E',  'GAG':'E',  'GAT':'D',  'GAC':'D',  \n",
    "'AAA':'K',  'AAG':'K',  'CGT':'R',  'CGC':'R',  'CGA':'R',  'CGG':'R',  \n",
    "'AGA':'R',  'AGG':'R',  'TAA':'X',  'TAG':'X',  'TGA':'X'}"
   ]
  },
  {
   "cell_type": "code",
   "execution_count": 5,
   "metadata": {},
   "outputs": [],
   "source": [
    "AAtoGEN = {}\n",
    "for i in range(len(list(CodonDict.keys()))):\n",
    "    AAtoGEN[list(CodonDict.values())[i]] = list(CodonDict.keys())[i]"
   ]
  },
  {
   "cell_type": "code",
   "execution_count": 6,
   "metadata": {},
   "outputs": [],
   "source": [
    "Gen = []\n",
    "for i in range(len(Am)):\n",
    "    Gen.append(AAtoGEN[Am[i]])"
   ]
  },
  {
   "cell_type": "code",
   "execution_count": 7,
   "metadata": {},
   "outputs": [],
   "source": [
    "Gen = np.array(Gen)"
   ]
  },
  {
   "cell_type": "code",
   "execution_count": 8,
   "metadata": {},
   "outputs": [],
   "source": [
    "def mutation(gen):\n",
    "    g = ''.join(gen)\n",
    "    idx = np.random.randint(len(g))\n",
    "    a = ['A','T','G','C']\n",
    "    i = np.random.randint(4)\n",
    "    d = list(g)\n",
    "    d[idx] = a[i]\n",
    "    g = ''.join(d)\n",
    "    p = []\n",
    "    for i in range(0,len(g),3):\n",
    "        p.append(CodonDict[g[i:i+3]])\n",
    "    return ''.join(p), g"
   ]
  },
  {
   "cell_type": "markdown",
   "metadata": {},
   "source": [
    "Gillespi"
   ]
  },
  {
   "cell_type": "code",
   "execution_count": null,
   "metadata": {},
   "outputs": [],
   "source": [
    "for k  in range(10):\n",
    "    n_0 = 50\n",
    "    ge = Gen\n",
    "    n_max = 10000\n",
    "    t = [0]\n",
    "    pob = [0 for i in range(n_0)]\n",
    "    n_mu = [0]\n",
    "    n_mu2 = [0]\n",
    "    n_n = [0]\n",
    "    t_mu = [0]\n",
    "    j=0\n",
    "    f=0\n",
    "    fit= [f]\n",
    "    i=1\n",
    "    b = 0\n",
    "    stop=False\n",
    "    while(True):\n",
    "        g = 2.0*len(pob)\n",
    "        ga = len(pob)\n",
    "        mu = g * 0.01 \n",
    "        s = g + ga + mu\n",
    "        t_new = -1/s * np.log(np.random.random())\n",
    "        t.append(t[i-1]+t_new)\n",
    "\n",
    "        alpha = np.random.random()\n",
    "        if(g > alpha * s and len(pob)<=n_max):\n",
    "            r = np.array([0,1,2])\n",
    "            prob = np.array([0, 0.33 + 0.1 * f, 0.33 + 0.1 * b])\n",
    "            prob[0] = 1 - prob[1] - prob[2]\n",
    "            pob.append(np.random.choice(r,p=prob))\n",
    "        if(ga > alpha * s):\n",
    "            idx = np.random.randint(len(pob))\n",
    "            pob.pop(idx)\n",
    "        if(mu > alpha * s):\n",
    "            p, ge1 = mutation(ge)\n",
    "            if (p[64] == 'Y'or p[138] == 'M' or p[137] == 'S' ):\n",
    "                ge = ge1\n",
    "                pob.append(1)\n",
    "                if (p[67] == 'A' or p[67] == 'V' or p[94] == 'V' or p[215] == 'F' or p[185] == 'F' or p[217] == 'P'):\n",
    "                    f = 0.34 * np.random.random()  \n",
    "                if (p[67] == 'A' and p[94] == 'V' and p[215] == 'F' and p[185] == 'F' and p[217] == 'P'):\n",
    "                    f = 0.80 * np.random.random()\n",
    "                    print(t[i])\n",
    "                    stop = True\n",
    "            else:\n",
    "                b = -0.45 * np.random.random()\n",
    "                pob.append(2)\n",
    "        n_mu.append(pob.count(1))\n",
    "        n_n.append(pob.count(0))\n",
    "        n_mu2.append(pob.count(2))\n",
    "        fit.append(f)\n",
    "        if(t[i]>10 or stop):\n",
    "            break\n",
    "        #if(i%100000 == 0):\n",
    "        #   print(i,t[i],f)\n",
    "        i+=1\n",
    "\n",
    "    #plt.plot(t,n_mu) \n",
    "    plt.plot(t,fit)\n",
    "\n",
    "    print(AA[67], AA[94], AA[215], AA[185], AA[217])\n",
    "    print(p[67], p[94], p[215], p[185], p[217])\n",
    "\n",
    "plt.xlabel('time')\n",
    "plt.ylabel('fitness')\n",
    "plt.show()\n",
    "plt.savefig(\"mutants23.pdf\") "
   ]
  },
  {
   "cell_type": "code",
   "execution_count": 10,
   "metadata": {},
   "outputs": [
    {
     "data": {
      "text/plain": [
       "'PEPWRSPGPNXGLKRRQNLNXARHNFFHYCQLACNAGQGXVWRVXKLIRPLLSLWAAPSLQQMANLALAAGDFYRKQIPRASRFGFHEESSRSLQYRAGSLSNLLVLWLRCIPPCSGVPVPGGSWPLQCRCGXTSSSNRWIPGXQLSXAKRTYALKFAGFTPSCIPQGXISDSRIASQYVPSPGHNDFTTGQSWGTEEPPGINARSVRXQTEQPNLNLQCVPKIRLSKTGPCNPSRSQVTSRENHAPTIRTLDQFLRCPLGCTRXXGATVNQRVHVDNDKAYRYHGPXXX'"
      ]
     },
     "execution_count": 10,
     "metadata": {},
     "output_type": "execute_result"
    }
   ],
   "source": [
    "p"
   ]
  },
  {
   "cell_type": "code",
   "execution_count": 11,
   "metadata": {},
   "outputs": [
    {
     "data": {
      "text/plain": [
       "'SSGLVPRGSHMRGPNPTAASLEASAGPFTVRSFTVSRPSGYGAGTVYYPTNAGGTVGAIAIVPGYTARQSSIKWWGPRLASHGFVVITIDTNSTLDQPSSRSSQQMAALRQVASLNGTSSSPIYGKVDTARMGVMGWSMGGGGSLISAANNPSLKAAAPQAPWDSSTNFSSVTVPTLIFACENDSIAPVNSSALPIYDSMSRNAKQFLEINGGSHSCANSGNSNQALIGKKGVAWMKRFMDNDTRYSTFACENPNSTRVSDFRTANCSLEDPAANKARKEAELAAATAEQ'"
      ]
     },
     "execution_count": 11,
     "metadata": {},
     "output_type": "execute_result"
    }
   ],
   "source": [
    "AA"
   ]
  },
  {
   "cell_type": "code",
   "execution_count": 12,
   "metadata": {},
   "outputs": [
    {
     "data": {
      "image/png": "[encoded data removed]",
      "text/plain": [
       "<Figure size 432x288 with 1 Axes>"
      ]
     },
     "metadata": {
      "needs_background": "light"
     },
     "output_type": "display_data"
    }
   ],
   "source": [
    "plt.plot(t,n_mu) \n",
    "plt.show()"
   ]
  },
  {
   "cell_type": "code",
   "execution_count": null,
   "metadata": {},
   "outputs": [],
   "source": []
  }
 ],
 "metadata": {
  "kernelspec": {
   "display_name": "Python 3",
   "language": "python",
   "name": "python3"
  },
  "language_info": {
   "codemirror_mode": {
    "name": "ipython",
    "version": 3
   },
   "file_extension": ".py",
   "mimetype": "text/x-python",
   "name": "python",
   "nbconvert_exporter": "python",
   "pygments_lexer": "ipython3",
   "version": "3.6.6"
  }
 },
 "nbformat": 4,
 "nbformat_minor": 2
}
