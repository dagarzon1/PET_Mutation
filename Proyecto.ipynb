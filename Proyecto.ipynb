{
 "cells": [
  {
   "cell_type": "code",
   "execution_count": 3,
   "metadata": {},
   "outputs": [],
   "source": [
    "import numpy as np\n",
    "import matplotlib.pyplot as plt"
   ]
  },
  {
   "cell_type": "code",
   "execution_count": 4,
   "metadata": {},
   "outputs": [],
   "source": [
    "AA3to1 = {'CYS': 'C', 'ASP': 'D', 'SER': 'S', 'GLN': 'Q', 'LYS': 'K','ILE': 'I', 'PRO': 'P', 'THR': 'T', 'PHE': 'F', 'ASN': 'N', \n",
    "     'GLY': 'G', 'HIS': 'H', 'LEU': 'L', 'ARG': 'R', 'TRP': 'W','ALA': 'A', 'VAL':'V', 'GLU': 'E', 'TYR': 'Y', 'MET': 'M'}\n",
    "AA1to3 = {}\n",
    "for i in range(len(list(AA3to1.keys()))):\n",
    "    AA1to3[list(AA3to1.values())[i]] = list(AA3to1.keys())[i]"
   ]
  },
  {
   "cell_type": "code",
   "execution_count": 5,
   "metadata": {},
   "outputs": [],
   "source": [
    "AA = 'SSGLVPRGSHMRGPNPTAASLEASAGPFTVRSFTVSRPSGYGAGTVYYPTNAGGTVGAIAIVPGYTARQSSIKWWGPRLASHGFVVITIDTNSTLDQPSSRSSQQMAALRQVASLNGTSSSPIYGKVDTARMGVMGWSMGGGGSLISAANNPSLKAAAPQAPWDSSTNFSSVTVPTLIFACENDSIAPVNSSALPIYDSMSRNAKQFLEINGGSHSCANSGNSNQALIGKKGVAWMKRFMDNDTRYSTFACENPNSTRVSDFRTANCSLEDPAANKARKEAELAAATAEQ'\n",
    "Am = list(AA)\n",
    "Am3 = []\n",
    "for i in range(len(Am)):\n",
    "    Am3.append(AA1to3[Am[i]])"
   ]
  },
  {
   "cell_type": "code",
   "execution_count": 6,
   "metadata": {},
   "outputs": [],
   "source": [
    "CodonDict={'ATT':'I',   'ATC':'I',  'ATA':'I',  'CTT':'L',  'CTC':'L',  \n",
    "'CTA':'L',  'CTG':'L',  'TTA':'L',  'TTG':'L',  'GTT':'V',  'GTC':'V',  \n",
    "'GTA':'V',  'GTG':'V',  'TTT':'F',  'TTC':'F',  'ATG':'M',  'TGT':'C',  \n",
    "'TGC':'C',  'GCT':'A',  'GCC':'A',  'GCA':'A',  'GCG':'A',  'GGT':'G',  \n",
    "'GGC':'G',  'GGA':'G',  'GGG':'G',  'CCT':'P',  'CCC':'P',  'CCA':'P',  \n",
    "'CCG':'P',  'ACT':'T',  'ACC':'T',  'ACA':'T',  'ACG':'T',  'TCT':'S',  \n",
    "'TCC':'S',  'TCA':'S',  'TCG':'S',  'AGT':'S',  'AGC':'S',  'TAT':'Y',  \n",
    "'TAC':'Y',  'TGG':'W',  'CAA':'Q',  'CAG':'Q',  'AAT':'N',  'AAC':'N',  \n",
    "'CAT':'H',  'CAC':'H',  'GAA':'E',  'GAG':'E',  'GAT':'D',  'GAC':'D',  \n",
    "'AAA':'K',  'AAG':'K',  'CGT':'R',  'CGC':'R',  'CGA':'R',  'CGG':'R',  \n",
    "'AGA':'R',  'AGG':'R',  'TAA':'X',  'TAG':'X',  'TGA':'X'}"
   ]
  },
  {
   "cell_type": "code",
   "execution_count": 7,
   "metadata": {},
   "outputs": [],
   "source": [
    "AAtoGEN = {}\n",
    "for i in range(len(list(CodonDict.keys()))):\n",
    "    AAtoGEN[list(CodonDict.values())[i]] = list(CodonDict.keys())[i]"
   ]
  },
  {
   "cell_type": "code",
   "execution_count": 8,
   "metadata": {},
   "outputs": [],
   "source": [
    "Gen = []\n",
    "for i in range(len(Am)):\n",
    "    Gen.append(AAtoGEN[Am[i]])"
   ]
  },
  {
   "cell_type": "code",
   "execution_count": 9,
   "metadata": {},
   "outputs": [],
   "source": [
    "Gen = np.array(Gen)"
   ]
  },
  {
   "cell_type": "code",
   "execution_count": 10,
   "metadata": {},
   "outputs": [
    {
     "data": {
      "text/plain": [
       "array(['AGC', 'AGC', 'GGG', 'TTG', 'GTG', 'CCG', 'AGG', 'GGG', 'AGC',\n",
       "       'CAC', 'ATG', 'AGG', 'GGG', 'CCG', 'AAC', 'CCG', 'ACG', 'GCG',\n",
       "       'GCG', 'AGC', 'TTG', 'GAG', 'GCG', 'AGC', 'GCG', 'GGG', 'CCG',\n",
       "       'TTC', 'ACG', 'GTG', 'AGG', 'AGC', 'TTC', 'ACG', 'GTG', 'AGC',\n",
       "       'AGG', 'CCG', 'AGC', 'GGG', 'TAC', 'GGG', 'GCG', 'GGG', 'ACG',\n",
       "       'GTG', 'TAC', 'TAC', 'CCG', 'ACG', 'AAC', 'GCG', 'GGG', 'GGG',\n",
       "       'ACG', 'GTG', 'GGG', 'GCG', 'ATA', 'GCG', 'ATA', 'GTG', 'CCG',\n",
       "       'GGG', 'TAC', 'ACG', 'GCG', 'AGG', 'CAG', 'AGC', 'AGC', 'ATA',\n",
       "       'AAG', 'TGG', 'TGG', 'GGG', 'CCG', 'AGG', 'TTG', 'GCG', 'AGC',\n",
       "       'CAC', 'GGG', 'TTC', 'GTG', 'GTG', 'ATA', 'ACG', 'ATA', 'GAC',\n",
       "       'ACG', 'AAC', 'AGC', 'ACG', 'TTG', 'GAC', 'CAG', 'CCG', 'AGC',\n",
       "       'AGC', 'AGG', 'AGC', 'AGC', 'CAG', 'CAG', 'ATG', 'GCG', 'GCG',\n",
       "       'TTG', 'AGG', 'CAG', 'GTG', 'GCG', 'AGC', 'TTG', 'AAC', 'GGG',\n",
       "       'ACG', 'AGC', 'AGC', 'AGC', 'CCG', 'ATA', 'TAC', 'GGG', 'AAG',\n",
       "       'GTG', 'GAC', 'ACG', 'GCG', 'AGG', 'ATG', 'GGG', 'GTG', 'ATG',\n",
       "       'GGG', 'TGG', 'AGC', 'ATG', 'GGG', 'GGG', 'GGG', 'GGG', 'AGC',\n",
       "       'TTG', 'ATA', 'AGC', 'GCG', 'GCG', 'AAC', 'AAC', 'CCG', 'AGC',\n",
       "       'TTG', 'AAG', 'GCG', 'GCG', 'GCG', 'CCG', 'CAG', 'GCG', 'CCG',\n",
       "       'TGG', 'GAC', 'AGC', 'AGC', 'ACG', 'AAC', 'TTC', 'AGC', 'AGC',\n",
       "       'GTG', 'ACG', 'GTG', 'CCG', 'ACG', 'TTG', 'ATA', 'TTC', 'GCG',\n",
       "       'TGC', 'GAG', 'AAC', 'GAC', 'AGC', 'ATA', 'GCG', 'CCG', 'GTG',\n",
       "       'AAC', 'AGC', 'AGC', 'GCG', 'TTG', 'CCG', 'ATA', 'TAC', 'GAC',\n",
       "       'AGC', 'ATG', 'AGC', 'AGG', 'AAC', 'GCG', 'AAG', 'CAG', 'TTC',\n",
       "       'TTG', 'GAG', 'ATA', 'AAC', 'GGG', 'GGG', 'AGC', 'CAC', 'AGC',\n",
       "       'TGC', 'GCG', 'AAC', 'AGC', 'GGG', 'AAC', 'AGC', 'AAC', 'CAG',\n",
       "       'GCG', 'TTG', 'ATA', 'GGG', 'AAG', 'AAG', 'GGG', 'GTG', 'GCG',\n",
       "       'TGG', 'ATG', 'AAG', 'AGG', 'TTC', 'ATG', 'GAC', 'AAC', 'GAC',\n",
       "       'ACG', 'AGG', 'TAC', 'AGC', 'ACG', 'TTC', 'GCG', 'TGC', 'GAG',\n",
       "       'AAC', 'CCG', 'AAC', 'AGC', 'ACG', 'AGG', 'GTG', 'AGC', 'GAC',\n",
       "       'TTC', 'AGG', 'ACG', 'GCG', 'AAC', 'TGC', 'AGC', 'TTG', 'GAG',\n",
       "       'GAC', 'CCG', 'GCG', 'GCG', 'AAC', 'AAG', 'GCG', 'AGG', 'AAG',\n",
       "       'GAG', 'GCG', 'GAG', 'TTG', 'GCG', 'GCG', 'GCG', 'ACG', 'GCG',\n",
       "       'GAG', 'CAG'], dtype='<U3')"
      ]
     },
     "execution_count": 10,
     "metadata": {},
     "output_type": "execute_result"
    }
   ],
   "source": [
    "Gen"
   ]
  },
  {
   "cell_type": "code",
   "execution_count": 11,
   "metadata": {},
   "outputs": [],
   "source": [
    "def R(g, ga, mu):\n",
    "    d = ( g - ga )**2.0 + ( 2*g + 2*ga + mu )*mu\n",
    "    return np.sqrt(d)\n",
    "def W(g, ga, mu):\n",
    "    return g + ga + mu\n",
    "def C(t, R):\n",
    "    return np.cosh(R*t*0.5)\n",
    "def S(t, R):\n",
    "    return np.sinh(R*t*0.5)\n",
    "def G(s, t, g, ga, mu,n):\n",
    "    R_ = R(g,ga,mu)\n",
    "    W_ = W(g,ga,mu)\n",
    "    num = ( W_*S(t,R_) - R_ * C(t,R_) )*np.exp(s) - 2.0 * ga * S(t,R_)\n",
    "    den = 2.0*g*S(t,R_)*np.exp(s) - W_*S(t,R_) - R_*C(t,R_)\n",
    "    return (num/den)**2.0"
   ]
  },
  {
   "cell_type": "code",
   "execution_count": 37,
   "metadata": {},
   "outputs": [],
   "source": [
    "def t_m(g, ga, mu, n):\n",
    "    r = np.random.random()\n",
    "    r = r ** (1.0/n)\n",
    "    R_ = R(g,ga,mu)\n",
    "    W_ = W(g,ga,mu)\n",
    "    num = r * (R_-W_+2.0*g)-W_-R_+2*ga\n",
    "    den = r * (-R_-W_+2.0*g)-W_+R_+2*ga\n",
    "    l = num/den\n",
    "    t = 1.0/R_ * np.log(l)\n",
    "    return t,r"
   ]
  },
  {
   "cell_type": "code",
   "execution_count": 38,
   "metadata": {},
   "outputs": [],
   "source": [
    "def t_x(g,ga,mu,n):\n",
    "    R_ = R(g,ga,mu)\n",
    "    W_ = W(g,ga,mu)\n",
    "    num = R_-W_+2.0*ga\n",
    "    den = R_+W_-2.0*ga\n",
    "    l = (num/den) ** n \n",
    "    return l"
   ]
  },
  {
   "cell_type": "code",
   "execution_count": 58,
   "metadata": {},
   "outputs": [
    {
     "name": "stderr",
     "output_type": "stream",
     "text": [
      "/srv/conda/lib/python3.6/site-packages/ipykernel_launcher.py:9: RuntimeWarning: invalid value encountered in log\n",
      "  if __name__ == '__main__':\n"
     ]
    },
    {
     "data": {
      "image/png": "[encoded data removed]",
      "text/plain": [
       "<Figure size 432x288 with 1 Axes>"
      ]
     },
     "metadata": {
      "needs_background": "light"
     },
     "output_type": "display_data"
    }
   ],
   "source": [
    "N = 1000\n",
    "n=100\n",
    "g=1.0 * n\n",
    "ga=1.0 * n\n",
    "mu=0.001 * n\n",
    "t = [0]\n",
    "pob = np.zeros(n)\n",
    "n_mu = [0]\n",
    "for i in range(1,N):\n",
    "    summ = n\n",
    "    #g = g * summ\n",
    "    #ga = ga * summ\n",
    "    #mu = mu * summ\n",
    "    t_new,r = t_m(g,ga,mu,summ)\n",
    "    alpha = np.random.random()\n",
    "    \n",
    "    if(r>t_x(g,ga,mu,summ)):\n",
    "        n_mu.append(n_mu[i-1] + 1)\n",
    "        t.append(t[i-1]+t_new)\n",
    "    else:\n",
    "        print(1)\n",
    "        \n",
    "plt.plot(t,n_mu) \n",
    "plt.show()   "
   ]
  },
  {
   "cell_type": "code",
   "execution_count": 55,
   "metadata": {},
   "outputs": [
    {
     "data": {
      "text/plain": [
       "0.001"
      ]
     },
     "execution_count": 55,
     "metadata": {},
     "output_type": "execute_result"
    }
   ],
   "source": [
    "mu"
   ]
  },
  {
   "cell_type": "code",
   "execution_count": null,
   "metadata": {},
   "outputs": [],
   "source": []
  }
 ],
 "metadata": {
  "kernelspec": {
   "display_name": "Python 3",
   "language": "python",
   "name": "python3"
  },
  "language_info": {
   "codemirror_mode": {
    "name": "ipython",
    "version": 3
   },
   "file_extension": ".py",
   "mimetype": "text/x-python",
   "name": "python",
   "nbconvert_exporter": "python",
   "pygments_lexer": "ipython3",
   "version": "3.6.6"
  }
 },
 "nbformat": 4,
 "nbformat_minor": 2
}
